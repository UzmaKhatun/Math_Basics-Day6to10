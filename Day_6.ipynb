{
 "cells": [
  {
   "cell_type": "markdown",
   "id": "98ff779d-8524-4251-ad22-59205e54469a",
   "metadata": {},
   "source": [
    "# Day-6 Of \n",
    "# <b>#100 Days of Machine Learning</b>\n",
    "---"
   ]
  },
  {
   "cell_type": "markdown",
   "id": "6de88b2c-ca02-4a4f-ac5b-29868d69fc41",
   "metadata": {},
   "source": [
    "# Basic Algebra and Linear Equations"
   ]
  },
  {
   "cell_type": "markdown",
   "id": "d88b9544-c455-445a-99d8-a64cc72a7759",
   "metadata": {},
   "source": [
    "# I. Basic Algebra: The Foundation\n",
    "\n",
    "## A. Definition:\n",
    "\n",
    "## - Algebra is a branch of mathematics that deals with symbols and the rules for manipulating those symbols. These symbols (usually letters) represent unknown quantities or variables.\n",
    "## - It provides a way to express relationships and solve for unknown values in a generalized manner.\n",
    "B. Key Concepts and Definitions:\n",
    "\n",
    "- Variable: A symbol (e.g., x, y, a) that represents an unknown value or a quantity that can change.\n",
    "- Constant: A fixed value that does not change (e.g., 2, -5, π).\n",
    "- Coefficient: The numerical factor that multiplies a variable (e.g., in 3x, 3 is the coefficient of x).\n",
    "- Term: A single number, a single variable, or the product of numbers and variables (e.g., 7, y, −2ab).\n",
    "- Expression: A combination of terms connected by mathematical operations (+, -, ×, ÷) (e.g., 2x+5y−3).\n",
    "- Equation: A statement that two expressions are equal, indicated by an equals sign (=) (e.g., 2x+5=11).\n",
    "- Operator: Symbols that indicate mathematical operations (e.g., +, -, ×, ÷, ^)."
   ]
  },
  {
   "cell_type": "markdown",
   "id": "f57f1fa1-1219-4772-bb0d-4377b38fcfda",
   "metadata": {},
   "source": [
    "## C. Examples:\n",
    "\n",
    "## 1. Identifying Components:\n",
    "- In the expression 4a−7b+9:\n",
    "- Variables: a, b\n",
    "- Constants: 9\n",
    "- Coefficients: 4 (for a), −7 (for b)\n",
    "- Terms: 4a, −7b, 9\n",
    "## 2. Simplifying Expressions:\n",
    "- Combine like terms:   3x+2y−x+5y = (3x−x)+(2y+5y)=2x+7y\n",
    "- Distributive property:   2(a+3b) = 2a+6b"
   ]
  },
  {
   "cell_type": "markdown",
   "id": "d5160e6e-92ce-4064-9540-6093680842b5",
   "metadata": {},
   "source": [
    "# II. Linear Equations: Solving for the Unknown\n",
    "## A. Definition:\n",
    "## A linear equation is an algebraic equation in which each term is either a constant or the product of a constant and a single variable raised to the first power.   \n",
    "## The graph of a linear equation in one or two variables is a straight line.\n",
    "## B. Forms of Linear Equations:\n",
    "### Linear Equation in One Variable: ax+b=0, where a != 0.\n",
    "### Linear Equation in Two Variables: ax+by=c, where a and b are not both zero.\n",
    "### Slope-Intercept Form (for two variables): y=mx+c, where m is the slope and c is the y-intercept.\n",
    "## C. Solving Linear Equations in One Variable:\n",
    "\n",
    "### - The goal is to isolate the variable on one side of the equation.\n",
    "### - Use inverse operations (addition/subtraction, multiplication/division) to maintain equality.   \n",
    "## D. Examples \n",
    "## Solving Linear Equations in One Variable:"
   ]
  },
  {
   "cell_type": "code",
   "execution_count": 1,
   "id": "eee9a164-a906-4f81-9462-45e98d4ac8b8",
   "metadata": {},
   "outputs": [],
   "source": [
    "from sympy import symbols, Eq, solve"
   ]
  },
  {
   "cell_type": "code",
   "execution_count": 2,
   "id": "cee925c2-3e86-4a8b-ad94-7677ef1323d7",
   "metadata": {},
   "outputs": [
    {
     "name": "stdout",
     "output_type": "stream",
     "text": [
      "The value of X : [-3/2]\n"
     ]
    }
   ],
   "source": [
    "# Que-> 1 solve 2x + 3=0\n",
    "\n",
    "# Define the variable\n",
    "x = symbols('x')\n",
    "\n",
    "# Define the equation\n",
    "equation = Eq(2*x + 3, 0)\n",
    "\n",
    "# Solve the system\n",
    "solution = solve(equation, x)\n",
    "\n",
    "# Display value\n",
    "print(f'The value of X : {solution}')"
   ]
  },
  {
   "cell_type": "code",
   "execution_count": 3,
   "id": "b0d39116-5812-46e4-b123-184d07247050",
   "metadata": {},
   "outputs": [
    {
     "name": "stdout",
     "output_type": "stream",
     "text": [
      "The value of X : [-2]\n"
     ]
    }
   ],
   "source": [
    "# Que-> 2 solve 3x + 7 = 1\n",
    "x = symbols('x')\n",
    "equation = Eq(3*x + 7, 1)\n",
    "solution = solve(equation, x)\n",
    "print(f'The value of X : {solution}')"
   ]
  },
  {
   "cell_type": "code",
   "execution_count": 4,
   "id": "bf3d2e10-51e3-4151-85aa-9ae4f35e8e34",
   "metadata": {},
   "outputs": [
    {
     "name": "stdout",
     "output_type": "stream",
     "text": [
      "The value of X : [2]\n"
     ]
    }
   ],
   "source": [
    "# Que-> 3 solve 2x + 4 = x + 6\n",
    "x = symbols('x')\n",
    "equation = Eq(2*x + 4, x + 6)\n",
    "solution = solve(equation, x)\n",
    "print(f'The value of X : {solution}')"
   ]
  },
  {
   "cell_type": "markdown",
   "id": "075d426c-7427-4201-a498-88335ea0f000",
   "metadata": {},
   "source": [
    "## E. Solving Linear Equations in Two Variables (Introduction):"
   ]
  },
  {
   "cell_type": "code",
   "execution_count": 5,
   "id": "909b54c4-ea2f-457b-ae36-34441010db2e",
   "metadata": {},
   "outputs": [
    {
     "name": "stdout",
     "output_type": "stream",
     "text": [
      "Solution:\n",
      "x = 21/5, y = 6/5\n"
     ]
    }
   ],
   "source": [
    "# Que-> 4 solve {2x + 3y = 12 | x − y = 3}\n",
    "\n",
    "# Define the variables\n",
    "x, y = symbols('x y')\n",
    "# Define the equations\n",
    "equ_1 = Eq(2*x + 3*y, 12)\n",
    "equ_2 = Eq(x - y, 3)\n",
    "\n",
    "# Solve the system\n",
    "solution = solve((equ_1, equ_2), (x, y))\n",
    "\n",
    "# Display values\n",
    "print(\"Solution:\")\n",
    "print(f\"x = {solution[x]}, y = {solution[y]}\")"
   ]
  },
  {
   "cell_type": "code",
   "execution_count": 6,
   "id": "5cb3dacf-f62b-4f86-b83e-fd36e2d0b6a7",
   "metadata": {},
   "outputs": [
    {
     "name": "stdout",
     "output_type": "stream",
     "text": [
      "Solution:\n",
      "x = 2, y = 1\n"
     ]
    }
   ],
   "source": [
    "# Que-> 5 solve {3x − 2y = 4 | 4x + y = 9}\n",
    "x, y = symbols('x y')\n",
    "eq1 = Eq(3*x - 2*y, 4)\n",
    "eq2 = Eq(4*x + y, 9)\n",
    "solution = solve((eq1, eq2), (x, y))\n",
    "print(\"Solution:\")\n",
    "print(f\"x = {solution[x]}, y = {solution[y]}\")"
   ]
  },
  {
   "cell_type": "markdown",
   "id": "433c503d-6fc8-4a83-b9d5-46cbc1d03317",
   "metadata": {},
   "source": [
    "## III. Importance in Machine Learning:\n",
    "###  Data Representation: Linear algebra (which builds upon basic algebra) is fundamental for representing and manipulating data in machine learning (e.g., vectors, matrices).\n",
    "### Model Formulation: Many machine learning models, such as linear regression, are based on linear equations.\n",
    "### Optimization Algorithms: Understanding how to solve systems of linear equations is relevant in the context of optimization algorithms used to train machine learning models."
   ]
  },
  {
   "cell_type": "code",
   "execution_count": null,
   "id": "7a4aa58b-205b-41e0-ab1c-6e968fe532a8",
   "metadata": {},
   "outputs": [],
   "source": []
  }
 ],
 "metadata": {
  "kernelspec": {
   "display_name": "Python 3 (ipykernel)",
   "language": "python",
   "name": "python3"
  },
  "language_info": {
   "codemirror_mode": {
    "name": "ipython",
    "version": 3
   },
   "file_extension": ".py",
   "mimetype": "text/x-python",
   "name": "python",
   "nbconvert_exporter": "python",
   "pygments_lexer": "ipython3",
   "version": "3.10.10"
  }
 },
 "nbformat": 4,
 "nbformat_minor": 5
}
