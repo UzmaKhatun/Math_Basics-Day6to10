{
 "cells": [
  {
   "cell_type": "markdown",
   "id": "00c76f70-bfcb-4657-ab32-837f2302dffd",
   "metadata": {},
   "source": [
    "# Day-8 Of \n",
    "# <b>#100 Days of Machine Learning</b>\n",
    "---"
   ]
  },
  {
   "cell_type": "markdown",
   "id": "2425ce76-874d-4420-9fc4-61f72c958611",
   "metadata": {},
   "source": [
    "# 🔹Statistics Fundamentals - Mean, Median, Mode, Variance, and Standard Deviation"
   ]
  },
  {
   "cell_type": "markdown",
   "id": "ecd037af-5aaa-44b2-bf1e-ab069e56832d",
   "metadata": {},
   "source": [
    "## 🔸1. Measures of Central Tendency\n",
    "### These measures help us understand the \"center\" or typical value of a dataset.\n",
    "\n",
    "## 1.1 Mean (Average)\n",
    "### Definition: The mean is the sum of all values in a dataset divided by the total number of values.\n",
    "\n",
    "### Formula:\n",
    "### Mean = (Sum of all the observations/Total number of observations)\n",
    "μ= $∑i=1 xi / n$\n",
    "### where:\n",
    "\n",
    "- μ (mu) represents the population mean (often estimated by the sample mean, denoted as  \n",
    "x\n",
    "ˉ\n",
    " )\n",
    "- xi represents each individual value in the dataset\n",
    "- n represents the total number of values in the dataset\n",
    "- ∑ denotes the sum"
   ]
  },
  {
   "cell_type": "code",
   "execution_count": 11,
   "id": "eb25794f-a404-48a2-8be2-2651330d380b",
   "metadata": {},
   "outputs": [],
   "source": [
    "import numpy as np\n",
    "from statistics import mean, median, mode, variance, stdev"
   ]
  },
  {
   "cell_type": "code",
   "execution_count": 12,
   "id": "8ad6f7c8-637b-454d-836f-bb7740f3bad6",
   "metadata": {},
   "outputs": [
    {
     "name": "stdout",
     "output_type": "stream",
     "text": [
      "Mean: 6.444444444444445\n"
     ]
    }
   ],
   "source": [
    "data = [4, 8, 6, 5, 3, 8, 9, 7, 8]\n",
    "print(\"Mean:\", mean(data))"
   ]
  },
  {
   "cell_type": "code",
   "execution_count": 13,
   "id": "0c910690-11f8-4fd0-8948-5ed686909863",
   "metadata": {},
   "outputs": [
    {
     "name": "stdout",
     "output_type": "stream",
     "text": [
      "Mean: 32\n"
     ]
    }
   ],
   "source": [
    "data2 = [15, 20, 35, 40, 50]\n",
    "print(\"Mean:\", mean(data2))"
   ]
  },
  {
   "cell_type": "markdown",
   "id": "ac7c0960-63ec-4c18-8ac1-e811c80cc433",
   "metadata": {},
   "source": [
    "## 1.2 Median\n",
    "### Definition: The median is the middle value in a dataset that is ordered from least to greatest. If there's an even number of data points, the median is the average of the two middle values.   \n",
    "## Steps to find the median:\n",
    "\n",
    "- Sort the dataset in ascending order.\n",
    "- If the number of data points (n) is odd, the median is the value at the $((n+1)/2)th$ position.\n",
    "- If the number of data points (n) is even, the median is the average of the values at the $(n/2)th$ and $((n/2)+1)th$ positions.\n",
    "### Example:\n",
    "### Using the same quiz scores: [78, 85, 88, 90, 92] (sorted)\n",
    "### The middle value is 88.\n",
    "\n",
    "### Consider a dataset with an even number of values: [78, 85, 88, 90]\n",
    "### The two middle values are 85 and 88.\n",
    "### Median = (85+88)/2 = 86.5"
   ]
  },
  {
   "cell_type": "code",
   "execution_count": 14,
   "id": "2aa7ca2e-2dce-4cc3-88a9-d81b5201c41c",
   "metadata": {},
   "outputs": [
    {
     "name": "stdout",
     "output_type": "stream",
     "text": [
      "Median: 7\n"
     ]
    }
   ],
   "source": [
    "data = [4, 8, 6, 5, 3, 8, 9, 7, 8]\n",
    "print(\"Median:\", median(data))"
   ]
  },
  {
   "cell_type": "code",
   "execution_count": 15,
   "id": "94c025b3-c1cd-47b3-bd48-8204ef42de6a",
   "metadata": {},
   "outputs": [
    {
     "name": "stdout",
     "output_type": "stream",
     "text": [
      "Median: 35\n"
     ]
    }
   ],
   "source": [
    "print(\"Median:\", median(data2))"
   ]
  },
  {
   "cell_type": "markdown",
   "id": "04235881-5d78-4930-a609-ead1522f29a5",
   "metadata": {},
   "source": [
    "## 1.3 Mode\n",
    "### Definition: The mode is the value that appears most frequently in a dataset. A dataset can have no mode (if all values are unique), one mode (unimodal), or multiple modes (bimodal, trimodal, etc.).   \n",
    "## Example:\n",
    "### Consider the dataset of the number of siblings of students: [1, 2, 0, 1, 3, 2, 1]\n",
    "### The number 1 appears most frequently (3 times). Therefore, the mode is 1."
   ]
  },
  {
   "cell_type": "code",
   "execution_count": 16,
   "id": "c803dc16-4ac8-4e08-bff0-919eb941ce63",
   "metadata": {},
   "outputs": [
    {
     "name": "stdout",
     "output_type": "stream",
     "text": [
      "Mode: 8\n"
     ]
    }
   ],
   "source": [
    "data = [4, 8, 6, 5, 3, 8, 9, 7, 8]\n",
    "print(\"Mode:\", mode(data))"
   ]
  },
  {
   "cell_type": "code",
   "execution_count": 17,
   "id": "703bde3e-329a-4191-9b47-94d71287d9f9",
   "metadata": {},
   "outputs": [
    {
     "name": "stdout",
     "output_type": "stream",
     "text": [
      "Mode: 15\n"
     ]
    }
   ],
   "source": [
    "data2 = [15, 20, 15, 40, 50]\n",
    "try:\n",
    "    print(\"Mode:\", mode(data2))\n",
    "except:\n",
    "    print(\"Mode: No mode found (all values are unique)\")"
   ]
  },
  {
   "cell_type": "markdown",
   "id": "3d6048ed-5d0d-4659-a7a0-60c1b480feb0",
   "metadata": {},
   "source": [
    "## 🔸2. Measures of Dispersion\n",
    "### These measures describe the spread or variability of the data around the central tendency.\n",
    "## 2.1 Variance\n",
    "### Definition: Variance measures how far each data point is from the mean. It's the average of the squared differences from the mean. Squaring the differences ensures that all deviations (positive and negative) contribute positively to the measure.\n",
    "### Formula for Population Variance:\n",
    "### $σ^2 = ∑i=1(xi−μ)^2 / N$\n",
    "#### where:\n",
    "### - σ^2 (sigma squared) represents the population variance\n",
    "### - N represents the size of the population\n",
    "### Formula for Sample Variance (Bessel's Correction):\n",
    "### $s^2 = ∑i=1(xi - x)^2 / n−1$\n",
    "#### where:\n",
    "### - s^2 represents the sample variance\n",
    "### - n represents the size of the sample\n",
    "### We use n−1 in the denominator for sample variance to provide an unbiased estimate of the population variance."
   ]
  },
  {
   "cell_type": "code",
   "execution_count": 18,
   "id": "76396f0f-2bf7-43c5-a075-4d2f75fe8f61",
   "metadata": {},
   "outputs": [
    {
     "name": "stdout",
     "output_type": "stream",
     "text": [
      "Variance: 4.277777777777778\n"
     ]
    }
   ],
   "source": [
    "data = [4, 8, 6, 5, 3, 8, 9, 7, 8]\n",
    "print(\"Variance:\", variance(data))"
   ]
  },
  {
   "cell_type": "code",
   "execution_count": 19,
   "id": "502d14df-112b-4708-95ef-306997293869",
   "metadata": {},
   "outputs": [
    {
     "name": "stdout",
     "output_type": "stream",
     "text": [
      "Variance: 207.5\n"
     ]
    }
   ],
   "source": [
    "data2 = [15, 20, 35, 40, 50]\n",
    "print(\"Variance:\", variance(data2))"
   ]
  },
  {
   "cell_type": "markdown",
   "id": "1997b1e2-9ddd-4c57-b1b5-0f3d5b6a7a84",
   "metadata": {},
   "source": [
    "## 2.2 Standard Deviation\n",
    "### Definition: Standard deviation is the square root of the variance. It provides a measure of the spread of the data in the original units, making it easier to interpret than variance. ### Formula for Population Standard Deviation:\n",
    "#### $σ = σ^2 = (∑i=1(xi − μ)^2 / N)^1/2$\n",
    "### Formula for Sample Standard Deviation:\n",
    "#### $s =  s^2 = (∑i=1(xi − x)^2/n−1)^1/2$"
   ]
  },
  {
   "cell_type": "code",
   "execution_count": 20,
   "id": "86dbe003-8cf6-402c-8e10-c3c891917eb1",
   "metadata": {},
   "outputs": [
    {
     "name": "stdout",
     "output_type": "stream",
     "text": [
      "Standard Deviation: 2.068278940998476\n"
     ]
    }
   ],
   "source": [
    "data = [4, 8, 6, 5, 3, 8, 9, 7, 8]\n",
    "print(\"Standard Deviation:\", stdev(data))"
   ]
  },
  {
   "cell_type": "code",
   "execution_count": 21,
   "id": "9bd62cf0-c8ff-4368-a36c-5c08e3978662",
   "metadata": {},
   "outputs": [
    {
     "name": "stdout",
     "output_type": "stream",
     "text": [
      "Standard Deviation: 14.404860290887934\n"
     ]
    }
   ],
   "source": [
    "data2 = [15, 20, 35, 40, 50]\n",
    "print(\"Standard Deviation:\", stdev(data2))"
   ]
  },
  {
   "cell_type": "markdown",
   "id": "3fef437c-0a3e-489a-9637-312089859576",
   "metadata": {},
   "source": [
    "## 📌 Key Takeaways\n",
    "- Use mean for general trend\n",
    "- Use median when data has outliers\n",
    "- Use mode for most frequent item\n",
    "- Variance and standard deviation show data spread"
   ]
  },
  {
   "cell_type": "code",
   "execution_count": null,
   "id": "83680894-d65b-4906-8767-861fec5970a5",
   "metadata": {},
   "outputs": [],
   "source": []
  }
 ],
 "metadata": {
  "kernelspec": {
   "display_name": "Python 3 (ipykernel)",
   "language": "python",
   "name": "python3"
  },
  "language_info": {
   "codemirror_mode": {
    "name": "ipython",
    "version": 3
   },
   "file_extension": ".py",
   "mimetype": "text/x-python",
   "name": "python",
   "nbconvert_exporter": "python",
   "pygments_lexer": "ipython3",
   "version": "3.10.10"
  }
 },
 "nbformat": 4,
 "nbformat_minor": 5
}
